{
  "nbformat": 4,
  "nbformat_minor": 0,
  "metadata": {
    "colab": {
      "provenance": []
    },
    "kernelspec": {
      "name": "python3",
      "display_name": "Python 3"
    },
    "language_info": {
      "name": "python"
    }
  },
  "cells": [
    {
      "cell_type": "markdown",
      "source": [
        "# **Value Iteration + Policy Evaluation + Policy Improvement**\n",
        "\n",
        "*Created by Pulkit Rustagi ans Skand, 2024\n",
        "Oregon State AIGSA Reading Group*\n",
        "\n",
        "This Google Colab notebook is made to help students understand and visualize process of value iteration and policy iteration to solve a Markov Decision Process (MDP) using the example of a grid maze."
      ],
      "metadata": {
        "id": "s2zZnViBNh0h"
      }
    },
    {
      "cell_type": "markdown",
      "source": [
        "# **Run this block to install and import dependencies**"
      ],
      "metadata": {
        "id": "2POwBcxSpvNq"
      }
    },
    {
      "cell_type": "code",
      "execution_count": null,
      "metadata": {
        "id": "l0oLt_6ymJRW"
      },
      "outputs": [],
      "source": [
        "\"\"\"Import packages\"\"\"\n",
        "!pip install simple-colors\n"
      ]
    },
    {
      "cell_type": "code",
      "source": [
        "import simple_colors\n",
        "import numpy as np\n",
        "import matplotlib.pyplot as plt\n",
        "import seaborn as sns\n",
        "import random"
      ],
      "metadata": {
        "id": "MZYeTXu4pR9a"
      },
      "execution_count": null,
      "outputs": []
    },
    {
      "cell_type": "markdown",
      "source": [
        "# **Maze MDP Class**"
      ],
      "metadata": {
        "id": "HqSyESIauekG"
      }
    },
    {
      "cell_type": "code",
      "source": [
        "class MazeMDP:\n",
        "  def __init__(self, maze, start_state=(0,0)):\n",
        "    self.maze = maze\n",
        "    self.rows = len(maze)\n",
        "    self.cols = len(maze[0])\n",
        "    self.start_state = start_state\n",
        "    self.goal_state = self._find_goal_state()  # Find the 'G' in the maze\n",
        "    self.S = [(i, j) for i in range(self.rows) for j in range(self.cols) ]  # Exclude walls\n",
        "    self.A = [0, 1, 2, 3] # {0: 'Up', 1: 'Right', 2: 'Down', 3: 'Left'}  # Actions\n",
        "    self.reward = self._init_rewards()  # Rewards\n",
        "    self.transition = self._init_transition_function()  # Transitions\n",
        "\n",
        "  def _find_goal_state(self):\n",
        "    for i in range(self.rows):\n",
        "      for j in range(self.cols):\n",
        "        if self.maze[i][j] == 'G':\n",
        "          return (i, j)\n",
        "    raise ValueError(\"Goal state 'G' not found in maze.\")\n",
        "\n",
        "  def _init_rewards(self):\n",
        "    rewards = {}\n",
        "    for s in self.S:\n",
        "      if s == self.goal_state:\n",
        "        rewards[s] =  0.0  # Goal state reward\n",
        "      else:\n",
        "        rewards[s] = -1.0  # Non-goal state reward\n",
        "    return rewards\n",
        "\n",
        "  def _init_transition_function(self):\n",
        "    transitions = {(s1, a, s2): 0.0 for s1 in self.S for a in self.A for s2 in self.S}\n",
        "    for s in self.S:\n",
        "      for a in self.A:\n",
        "        s_prime = self.move(s, a)\n",
        "        if s != self.goal_state:\n",
        "            transitions[(s, a, s_prime)] = 1.0\n",
        "        elif s == self.goal_state and s_prime == self.goal_state:\n",
        "            transitions[(s, a, s_prime)] = 1.0 / len(self.A)\n",
        "        else:\n",
        "            transitions[(s, a, s_prime)] = 0.0\n",
        "    for a in self.A:\n",
        "        transitions[(self.goal_state, a, self.goal_state)] = 1.0 / len(self.A)\n",
        "    return transitions\n",
        "\n",
        "  def move(self, state, action):\n",
        "    i, j = state\n",
        "    if action == 0 and i > 0 and self.maze[i - 1][j] != '#':  # Up\n",
        "      return (i - 1, j)\n",
        "    elif action == 1 and j < self.cols - 1 and self.maze[i][j + 1] != '#':  # Right\n",
        "      return (i, j + 1)\n",
        "    elif action == 2 and i < self.rows - 1 and self.maze[i + 1][j] != '#':  # Down\n",
        "      return (i + 1, j)\n",
        "    elif action == 3 and j > 0 and self.maze[i][j - 1] != '#':  # Left\n",
        "      return (i, j - 1)\n",
        "    return state  # If move is out of bounds or into a wall, stay in the same state\n",
        "\n",
        "  def R(self, s, a):\n",
        "    # base case if s is a goal state\n",
        "    if self.is_goal_state(s):\n",
        "      return 0\n",
        "    s_next = self.move(s, a)\n",
        "    return self.reward[s_next]\n",
        "\n",
        "  def T(self, s, a, s_next):\n",
        "    return self.transition[(s, a, s_next)]\n",
        "\n",
        "  def is_goal_state(self, s):\n",
        "    return s == self.goal_state"
      ],
      "metadata": {
        "id": "9cIxGGIYubU8"
      },
      "execution_count": null,
      "outputs": []
    },
    {
      "cell_type": "markdown",
      "source": [
        "# **Test the code**"
      ],
      "metadata": {
        "id": "zJCKbgovN_jd"
      }
    },
    {
      "cell_type": "code",
      "source": [
        "# maze = [\n",
        "#     [' ', ' ', ' ', '#', ' '],\n",
        "#     [' ', '#', ' ', '#', ' '],\n",
        "#     [' ', '#', ' ', ' ', ' '],\n",
        "#     [' ', ' ', '#', 'G', ' '],\n",
        "#     ['#', ' ', ' ', ' ', ' ']\n",
        "# ]\n",
        "\n",
        "maze = [\n",
        "    [' ', ' ', ' ', ' ', ' '],\n",
        "    [' ', ' ', ' ', ' ', ' '],\n",
        "    [' ', ' ', ' ', ' ', ' '],\n",
        "    [' ', ' ', ' ', 'G', ' '],\n",
        "    [' ', ' ', ' ', ' ', ' ']\n",
        "]\n",
        "\n",
        "# maze = [\n",
        "#             [' ', ' ', ' '],\n",
        "#             [' ', ' ', ' '],\n",
        "#             [' ', ' ', 'G'],\n",
        "#        ]\n",
        "\n",
        "# maze = [\n",
        "#             [' ', ' '],\n",
        "#             [' ', 'G'],\n",
        "#        ]\n",
        "mdp = MazeMDP(maze)\n",
        "\n",
        "\"\"\"\n",
        "print(\"Verify if following transition and reward is correct!\")\n",
        "\n",
        "def verify_transitions(s,a,s_next):\n",
        "  action_name = {0: 'Up', 1: 'Right', 2:'Down', 3: 'Left'}\n",
        "  print(\"\\t\"+str(s)+\" , \"+str(action_name[a])+\" --> \"+str(s_next))\n",
        "  T = mdp.T(s, a, s_next)\n",
        "  if T != 0.0:\n",
        "    print(simple_colors.green(\"\\tTransition probability: \"+str(T), ['bold']))\n",
        "    reward = mdp.R(s, a)\n",
        "    print(f\"\\tReward: {reward}\")\n",
        "  else:\n",
        "    print(simple_colors.red(\"\\tTransition probability: \"+str(T), ['bold']))\n",
        "\n",
        "\n",
        "print(\"Case 1:\")\n",
        "s = (2, 3)\n",
        "a = 2  # Move Down\n",
        "s_next = (3, 3)\n",
        "verify_transitions(s,a,s_next)\n",
        "\n",
        "print(\"Case 2:\")\n",
        "s = (2, 4)\n",
        "a = 3  # Move left\n",
        "s_next = (2, 3)\n",
        "verify_transitions(s,a,s_next)\n",
        "\n",
        "print(\"Case 3:\")\n",
        "s = (0, 1)\n",
        "a = 2  # Move left\n",
        "s_next = (2, 3)\n",
        "verify_transitions(s,a,s_next)\n",
        "\"\"\""
      ],
      "metadata": {
        "id": "j5JgK3YaOG2Z",
        "outputId": "c68df552-1fa6-4702-a56f-ccd4a3ca411b",
        "colab": {
          "base_uri": "https://localhost:8080/",
          "height": 125
        }
      },
      "execution_count": null,
      "outputs": [
        {
          "output_type": "execute_result",
          "data": {
            "text/plain": [
              "'\\nprint(\"Verify if following transition and reward is correct!\")\\n\\ndef verify_transitions(s,a,s_next):\\n  action_name = {0: \\'Up\\', 1: \\'Right\\', 2:\\'Down\\', 3: \\'Left\\'}\\n  print(\"\\t\"+str(s)+\" , \"+str(action_name[a])+\" --> \"+str(s_next))\\n  T = mdp.T(s, a, s_next)\\n  if T != 0.0:\\n    print(simple_colors.green(\"\\tTransition probability: \"+str(T), [\\'bold\\']))\\n    reward = mdp.R(s, a)\\n    print(f\"\\tReward: {reward}\")\\n  else:\\n    print(simple_colors.red(\"\\tTransition probability: \"+str(T), [\\'bold\\']))\\n\\n\\nprint(\"Case 1:\")\\ns = (2, 3)\\na = 2  # Move Down\\ns_next = (3, 3)\\nverify_transitions(s,a,s_next)\\n\\nprint(\"Case 2:\")\\ns = (2, 4)\\na = 3  # Move left\\ns_next = (2, 3)\\nverify_transitions(s,a,s_next)\\n\\nprint(\"Case 3:\")\\ns = (0, 1)\\na = 2  # Move left\\ns_next = (2, 3)\\nverify_transitions(s,a,s_next)\\n'"
            ],
            "application/vnd.google.colaboratory.intrinsic+json": {
              "type": "string"
            }
          },
          "metadata": {},
          "execution_count": 20
        }
      ]
    },
    {
      "cell_type": "markdown",
      "source": [
        "# **Value Iteration Agent Class**\n",
        "Bellman Backup\n",
        "\n",
        "  ![image.png](data:image/png;base64,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)"
      ],
      "metadata": {
        "id": "VzsuS87oOIPf"
      }
    },
    {
      "cell_type": "code",
      "source": [
        "class ValueIterationAgent:\n",
        "  def __init__(self, mdp, discount_factor=0.95, threshold=1e-4):\n",
        "    self.mdp = mdp\n",
        "    self.discount_factor = discount_factor\n",
        "    self.threshold = threshold\n",
        "    self.V = {s: 0 for s in self.mdp.S}  # Initialize state values to 0\n",
        "    self.policy = {s: None for s in self.mdp.S}  # Initialize empty policy\n",
        "    self.run_value_iteration()  # Run value iteration at initialization\n",
        "\n",
        "  def run_value_iteration(self):\n",
        "    while True:\n",
        "      delta = 0\n",
        "      new_V = self.V.copy()\n",
        "\n",
        "      for s in self.mdp.S:\n",
        "        if self.mdp.is_goal_state(s):\n",
        "            best_action = np.random.choice(self.mdp.A)\n",
        "            self.policy[s] = best_action\n",
        "            continue  # Skip value update for the goal state\n",
        "\n",
        "        max_value = float('-inf')\n",
        "        best_action = None\n",
        "        if s == self.mdp.goal_state:\n",
        "          self.V[s] = 0  # Set the value of the goal state to 0\n",
        "          continue\n",
        "        # Loop over possible actions and compute Q-values\n",
        "        for a in self.mdp.A:\n",
        "          q_value = 0\n",
        "\n",
        "          for s_prime in self.mdp.S:\n",
        "            prob = self.mdp.T(s, a, s_prime)\n",
        "            reward = self.mdp.R(s, a)\n",
        "            q_value += prob * (reward + self.discount_factor * self.V[s_prime])\n",
        "\n",
        "          if q_value > max_value:\n",
        "            max_value = q_value\n",
        "            best_action = a\n",
        "\n",
        "        new_V[s] = max_value\n",
        "        delta = max(delta, abs(self.V[s] - new_V[s]))\n",
        "        self.policy[s] = best_action  # Update policy with the best action\n",
        "\n",
        "      self.V = new_V\n",
        "\n",
        "      if delta < self.threshold:\n",
        "        break\n",
        "\n",
        "  def get_policy(self):\n",
        "    return {s: self.mdp.A[self.policy[s]] if self.policy[s] is not None else None for s in self.mdp.S}\n",
        "\n",
        "  def get_value(self, s):\n",
        "    return self.V[s]\n",
        "\n",
        "  def get_action(self, s):\n",
        "    return self.mdp.A[self.policy[s]] if self.policy[s] is not None else None\n",
        "\n",
        "  ######## This function is only for visualization (NO NEED TO EDIT) #########\n",
        "\n",
        "  def visualize_values(self):\n",
        "    # Create a 2D numpy array to hold the state values\n",
        "    value_grid = np.zeros((self.mdp.rows, self.mdp.cols))\n",
        "\n",
        "    # Fill the grid with state values, marking walls with NaN for visualization\n",
        "    for i in range(self.mdp.rows):\n",
        "      for j in range(self.mdp.cols):\n",
        "        state = (i, j)\n",
        "        if self.mdp.maze[i][j] == '#':\n",
        "          value_grid[i, j] = np.nan  # Mark walls with NaN\n",
        "        else:\n",
        "          value_grid[i, j] = self.get_value(state)\n",
        "\n",
        "    # Create a custom color map from black to blue\n",
        "    cmap = sns.color_palette(\"Blues\", as_cmap=True)\n",
        "\n",
        "    # Plot the heatmap using seaborn\n",
        "    plt.figure(figsize=(8, 6))\n",
        "    sns.heatmap(value_grid, annot=True, cmap=cmap, cbar=True, square=True, linewidths=0.5,\n",
        "                linecolor='black', mask=np.isnan(value_grid), annot_kws={\"size\": 16}, fmt=\".1f\")\n",
        "\n",
        "    # plt.title(\"Value Function Heatmap\")\n",
        "    wall_locations = [(j,i) for i in range(self.mdp.rows) for j in range(self.mdp.cols) if self.mdp.maze[i][j] == '#']\n",
        "    # Overlay dashed texture for walls\n",
        "    for wall_loc in wall_locations:\n",
        "      # Create a rectangle for the wall with a dashed texture\n",
        "      rect = plt.Rectangle(wall_loc, 1, 1, hatch='/', fill=False)\n",
        "      plt.gca().add_patch(rect)\n",
        "\n",
        "    plt.title(\"Value Function Heatmap\")\n",
        "\n",
        "    plt.show()\n",
        "\n",
        "\n",
        "  def visualize_policy(self, policy):\n",
        "    # Create a 2D numpy array to hold the state values\n",
        "    value_grid = np.zeros((self.mdp.rows, self.mdp.cols))\n",
        "\n",
        "    # Fill the grid with state values, marking walls with NaN for visualization\n",
        "    for i in range(self.mdp.rows):\n",
        "      for j in range(self.mdp.cols):\n",
        "        state = (i, j)\n",
        "        if self.mdp.maze[i][j] == '#':\n",
        "          value_grid[i, j] = np.nan  # Mark walls with NaN\n",
        "        else:\n",
        "          value_grid[i, j] = self.get_value(state)\n",
        "    # Create a 2D numpy array to hold the action letters\n",
        "    policy_grid = np.full((self.mdp.rows, self.mdp.cols), '', dtype=object)\n",
        "\n",
        "    # Fill the grid with action letters, marking walls with NaN for visualization\n",
        "    for i in range(self.mdp.rows):\n",
        "      for j in range(self.mdp.cols):\n",
        "        state = (i, j)\n",
        "        if self.mdp.maze[i][j] == '#':\n",
        "          policy_grid[i, j] = ' '  # Mark walls with NaN\n",
        "        else:\n",
        "          action = self.mdp.A[policy[state]] # self.get_action(state)\n",
        "          if action is not None:\n",
        "            policy_grid[i, j] = {0: 'U', 1: 'R', 2: 'D', 3: 'L'}[action]  # Map actions to letters\n",
        "\n",
        "    # Create a custom color map from black to blue\n",
        "    cmap = sns.color_palette(\"Blues\", as_cmap=True)\n",
        "\n",
        "    # Plot the heatmap using seaborn\n",
        "    plt.figure(figsize=(8, 6))\n",
        "    sns.heatmap(value_grid, annot=policy_grid, cmap=cmap, cbar=True, square=True, linewidths=0.5,\n",
        "                linecolor='black', mask=np.isnan(value_grid), annot_kws={\"size\": 16}, fmt=\"\")\n",
        "\n",
        "    plt.title(\"Policy overlayed on Value Heatmap\")\n",
        "\n",
        "    # Overlay dashed texture for walls\n",
        "    wall_locations = [(j, i) for i in range(self.mdp.rows) for j in range(self.mdp.cols) if self.mdp.maze[i][j] == '#']\n",
        "    for wall_loc in wall_locations:\n",
        "      # Create a rectangle for the wall with a dashed texture\n",
        "      rect = plt.Rectangle(wall_loc, 1, 1, hatch='/', fill=False)\n",
        "      plt.gca().add_patch(rect)\n",
        "\n",
        "    plt.xlim(0, self.mdp.cols)  # Ensure the x limits cover the grid\n",
        "    plt.ylim(self.mdp.rows,0)  # Ensure the y limits cover the grid\n",
        "    # # plt.gca().set_aspect('equal', adjustable='box')  # Keep the aspect ratio\n",
        "\n",
        "    plt.show()\n"
      ],
      "metadata": {
        "id": "FJ2pIPRJOI5s"
      },
      "execution_count": null,
      "outputs": []
    },
    {
      "cell_type": "markdown",
      "source": [
        "# **Display Policy over heatmap colors**"
      ],
      "metadata": {
        "id": "1fiKRCs5OKSU"
      }
    },
    {
      "cell_type": "code",
      "source": [
        "mdp = MazeMDP(maze)\n",
        "\n",
        "# Create a Value Iteration agent\n",
        "agent = ValueIterationAgent(mdp)\n",
        "\n",
        "# Visualize the values as a heatmap\n",
        "agent.visualize_policy(agent.policy)\n"
      ],
      "metadata": {
        "id": "BgpVV0VsOKkh",
        "outputId": "98070baa-ce0b-4eac-ff0d-8380ccc1776b",
        "colab": {
          "base_uri": "https://localhost:8080/",
          "height": 545
        }
      },
      "execution_count": null,
      "outputs": [
        {
          "output_type": "display_data",
          "data": {
            "text/plain": [
              "<Figure size 800x600 with 2 Axes>"
            ],
            "image/png": "[encoded data removed]"
          },
          "metadata": {}
        }
      ]
    },
    {
      "cell_type": "markdown",
      "source": [
        "# **Policy Evaluation**\n",
        "\n",
        "Given an MDP $M$ and a policy $\\pi$ the goal of policy evaluation is to return $V^\\pi$ for all states in $M$.\n",
        "\n",
        "There are 2 ways to do that:\n",
        "\n",
        "1. A closed form matrix solution: We can simple use the bellman backup solution since in the case of convergence, the value function under any policy should satisfy the Bellman equation.\n",
        "\n",
        "$V_\\pi = R + \\gamma T * V_\\pi$\n",
        "\n",
        "$V_\\pi = (I - \\gamma T)^{-1} R$\n",
        "\n",
        "where, $T$ is the $n\\times n$ transition matrix, $R$ is the $n$ dim reward vector and $I$ is the identity matrix.\n",
        "\n",
        "2. An iterative approach where you start with some initial estimate of the value function and repeatedly apply the Bellman backup until convergence.\n"
      ],
      "metadata": {
        "id": "OaM4ruIxxm6I"
      }
    },
    {
      "cell_type": "code",
      "source": [
        "class PolicyEvaluationAgent:\n",
        "    def __init__(self, mdp, policy, discount_factor=0.95, threshold=1e-4):\n",
        "        self.mdp = mdp\n",
        "        self.policy = policy\n",
        "        self.discount_factor = discount_factor\n",
        "        self.threshold = threshold\n",
        "\n",
        "        # Initialize V(s) = 0\n",
        "        self.V = {s: 0 for s in self.mdp.S}\n",
        "\n",
        "    def policy_evaluation_matrix_version(self):\n",
        "        \"\"\"\n",
        "            Returns V(s) for all states in MDP\n",
        "\n",
        "            V_pi = R + \\gamma T * V_pi\n",
        "\n",
        "            V_pi = (I - \\gamma T)^-1 R\n",
        "\n",
        "            V_pi: (n)\n",
        "            R: (n)\n",
        "            T: (n x n)\n",
        "        \"\"\"\n",
        "        n = len(self.mdp.S) # number of states in the MDP\n",
        "\n",
        "        # Create the identity matrix\n",
        "        I = np.eye(n) # n x n\n",
        "\n",
        "        # Create the Transition and Reward matrices\n",
        "        T = np.zeros((n, n))\n",
        "        R = np.zeros(n)\n",
        "\n",
        "        for i, s in enumerate(self.mdp.S):\n",
        "            a = self.policy[s] # action under the policy \\pi\n",
        "            for j, s_prime in enumerate(self.mdp.S):\n",
        "                T[i, j] = # TODO\n",
        "                R[i] = # TODO\n",
        "\n",
        "        # compute V_pi in a single shot using numpy matrix inverse (np.linalg.inv()) and multiplication\n",
        "        V_pi = # TODO\n",
        "\n",
        "        return V_pi\n",
        "\n",
        "    def policy_evaluation_iterative_version(self, num_iterations=100):\n",
        "        \"\"\"\n",
        "            This version uses iterative updates to compute V_pi(s).\n",
        "\n",
        "            The iterative updates are based on the Bellman Backup.\n",
        "            However, it is a simpler version as you don't have to perform the `max`\n",
        "            operation, because you are GIVEN a policy \\pi.\n",
        "\n",
        "            V_pi(s) = R(s, \\pi(s)) + \\gamma \\sum_{s'} T(s, \\pi(s), s') V_pi(s')\n",
        "        \"\"\"\n",
        "        # initializing the value functions to 0\n",
        "        V = {s: 0 for s in self.mdp.S}\n",
        "        new_V = {}\n",
        "\n",
        "        for _ in range(num_iterations):\n",
        "            for s in self.mdp.S:\n",
        "                a = self.policy[s]\n",
        "                # TODO\n",
        "\n",
        "\n",
        "            V = new_V.copy() # re-assign V to the updated new_V\n",
        "        return new_V\n",
        "\n"
      ],
      "metadata": {
        "id": "0SHizHazzvWI"
      },
      "execution_count": null,
      "outputs": []
    },
    {
      "cell_type": "code",
      "source": [
        "# Let's define a random policy to begin with\n",
        "import random\n",
        "random_policy = {s: random.choice(mdp.A) for s in mdp.S}\n",
        "random_policy_eval = PolicyEvaluationAgent(mdp, random_policy)\n",
        "V_pi_matrix = random_policy_eval.policy_evaluation_matrix_version()\n",
        "\n",
        "\n",
        "# how about we run on the Optimal policy we obtained using Value Iteration\n",
        "\n",
        "policy_eval = PolicyEvaluationAgent(mdp, agent.policy)\n",
        "V_pi_matrix = policy_eval.policy_evaluation_matrix_version()\n",
        "\n",
        "############### MATRIX VERSION ###############\n",
        "\n",
        "# The optimal value functions must be the same!\n",
        "assert np.abs(V_pi_matrix - list(agent.V.values())).sum() == 0\n",
        "\n",
        "############### ITERATIVE VERSION ###############\n",
        "V_pi_iterative = policy_eval.policy_evaluation_iterative_version()\n",
        "\n",
        "# The optimal value functions must be within some error!\n",
        "assert np.abs(np.array(list(V_pi_iterative.values())) - list(agent.V.values())).sum() < 1e-6\n"
      ],
      "metadata": {
        "id": "RdwP3PtT1ZS1"
      },
      "execution_count": null,
      "outputs": []
    },
    {
      "cell_type": "markdown",
      "source": [
        "# **Policy Iteration**\n",
        "\n",
        "Policy Iteration, like value iteration is an algorithm to compute a policy. In Value iteration, we obtained the policy implicitly by taking the `max` over all state-action values: $Q(s, a)$.\n",
        "\n",
        "In policy iteration, we will alternate between policy evaluation (we just looked at it in the above section) and policy improvement."
      ],
      "metadata": {
        "id": "rxwNHKJAxpYD"
      }
    },
    {
      "cell_type": "code",
      "source": [
        "class PolicyIterationAgent:\n",
        "    def __init__(self, mdp, discount_factor=0.95, threshold=1e-4):\n",
        "        self.mdp = mdp\n",
        "        self.discount_factor = discount_factor\n",
        "        self.threshold = threshold\n",
        "\n",
        "        # Initialize V(s) = 0\n",
        "        self.V = {s: 0 for s in self.mdp.S}\n",
        "\n",
        "        # Initilize a random policy\n",
        "        self.policy = {s: random.choice(self.mdp.A) for s in self.mdp.S}\n",
        "\n",
        "        def policy_evaluation_matrix_version(self):\n",
        "            \"\"\"\n",
        "                Returns V(s) for all states in MDP\n",
        "\n",
        "                V_pi = R + \\gamma T * V_pi\n",
        "\n",
        "                V_pi = (I - \\gamma T)^-1 R\n",
        "\n",
        "                V_pi: (n)\n",
        "                R: (n)\n",
        "                T: (n x n)\n",
        "            \"\"\"\n",
        "            n = len(self.mdp.S) # number of states in the MDP\n",
        "\n",
        "            # Create the identity matrix\n",
        "            I = np.eye(n) # n x n\n",
        "\n",
        "            # Create the Transition and Reward matrices\n",
        "            T = np.zeros((n, n))\n",
        "            R = np.zeros(n)\n",
        "\n",
        "            for i, s in enumerate(self.mdp.S):\n",
        "                a = self.policy[s] # action under the policy \\pi\n",
        "                for j, s_prime in enumerate(self.mdp.S):\n",
        "                    T[i, j] = self.mdp.T(s, a, s_prime)\n",
        "                    R[i] = self.mdp.R(s, a)\n",
        "\n",
        "            # compute V_pi in a single shot\n",
        "            V_pi = np.linalg.inv(I - self.discount_factor * T) @ R\n",
        "\n",
        "            return V_pi\n",
        "\n",
        "    def policy_evaluation_iterative_version(self, num_iterations=100):\n",
        "        \"\"\"\n",
        "            This version uses iterative updates to compute V_pi(s).\n",
        "\n",
        "            The iterative updates are based on the Bellman Backup.\n",
        "            However, it is a simpler version as you don't have to perform the `max`\n",
        "            operation, because you are GIVEN a policy \\pi.\n",
        "\n",
        "            V_pi(s) = R(s, \\pi(s)) + \\gamma \\sum_{s'} T(s, \\pi(s), s') V_pi(s')\n",
        "        \"\"\"\n",
        "        V = {s: 0 for s in self.mdp.S}\n",
        "        new_V = {}\n",
        "\n",
        "        for _ in range(num_iterations):\n",
        "            for s in self.mdp.S:\n",
        "                a = self.policy[s]\n",
        "                new_V[s] = self.mdp.R(s, a)\n",
        "                for s_prime in self.mdp.S:\n",
        "                    new_V[s] += self.discount_factor * (self.mdp.T(s, a, s_prime) * V[s_prime])\n",
        "\n",
        "\n",
        "            V = new_V.copy()\n",
        "        return new_V\n",
        "\n",
        "    def get_Q_values(self, V):\n",
        "\n",
        "        # Initialize Q-values\n",
        "        Q = {(s, a): 0 for s in self.mdp.S for a in self.mdp.A}\n",
        "\n",
        "        for s in self.mdp.S:\n",
        "            for a in self.mdp.A:\n",
        "                # TODO\n",
        "                # Get Q[s, a] for all s and a\n",
        "        return Q\n",
        "\n",
        "\n",
        "    def policy_improvement(self, Q):\n",
        "        curr_policy = self.policy\n",
        "\n",
        "        for s in self.mdp.S:\n",
        "            arg_max_action = None\n",
        "            max_Q_value = float('-inf')\n",
        "            # TODO\n",
        "\n",
        "        return curr_policy\n",
        "\n",
        "    def policy_iteration(self, num_iterations=100):\n",
        "\n",
        "        for _ in range(num_iterations):\n",
        "            # Policy evaluation step\n",
        "            V = self.policy_evaluation_iterative_version()\n",
        "\n",
        "            # get Q values\n",
        "            Q = self.get_Q_values(V)\n",
        "\n",
        "            # Policy Improvement step\n",
        "            new_policy = self.policy_improvement(Q)\n",
        "            self.policy = new_policy\n",
        "\n",
        "        return new_policy\n"
      ],
      "metadata": {
        "id": "MT2FbBL-xqzD"
      },
      "execution_count": null,
      "outputs": []
    },
    {
      "cell_type": "code",
      "source": [
        "policy_iter_agent = PolicyIterationAgent(mdp)\n",
        "policy = policy_iter_agent.policy_iteration()\n"
      ],
      "metadata": {
        "id": "wJPQNypY3r04"
      },
      "execution_count": null,
      "outputs": []
    },
    {
      "cell_type": "code",
      "source": [
        "# policy should be same except at the goal state\n",
        "\n",
        "agent.visualize_policy(agent.policy) # Value Iteration policy\n",
        "agent.visualize_policy(policy) # Policy Iteration policy"
      ],
      "metadata": {
        "id": "FXh5vPj430Em"
      },
      "execution_count": null,
      "outputs": []
    },
    {
      "cell_type": "markdown",
      "source": [
        "**NOTE**: Multiple runs of the policy iteration **MAY** return different policies -- because there may be more than one _optimal_ paths to the goal."
      ],
      "metadata": {
        "id": "U9pPVaNh4o1L"
      }
    },
    {
      "cell_type": "code",
      "source": [],
      "metadata": {
        "id": "Fe-3yLMB4TXu"
      },
      "execution_count": null,
      "outputs": []
    }
  ]
}